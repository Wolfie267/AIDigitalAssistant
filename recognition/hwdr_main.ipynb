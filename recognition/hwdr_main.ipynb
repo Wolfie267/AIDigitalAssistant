{
 "cells": [
  {
   "cell_type": "markdown",
   "source": [
    "# Hand Written Digit Recognition using Neural Networks"
   ],
   "metadata": {}
  },
  {
   "cell_type": "markdown",
   "source": [
    "## Importing Essential Libs"
   ],
   "metadata": {}
  },
  {
   "cell_type": "code",
   "execution_count": 4,
   "source": [
    "import cv2 as cv\r\n",
    "import numpy as np\r\n",
    "import matplotlib.pyplot as plt\r\n",
    "import tensorflow as tf\r\n",
    "import warnings\r\n",
    "warnings.filterwarnings('ignore')"
   ],
   "outputs": [],
   "metadata": {}
  },
  {
   "cell_type": "markdown",
   "source": [
    "## Loading and Inspecting the Dataset"
   ],
   "metadata": {}
  },
  {
   "cell_type": "code",
   "execution_count": 5,
   "source": [
    "mnist = tf.keras.datasets.mnist\r\n",
    "(x_train, y_train), (x_test, y_test) = mnist.load_data()\r\n",
    "x_train.shape, y_train.shape"
   ],
   "outputs": [
    {
     "output_type": "execute_result",
     "data": {
      "text/plain": [
       "((60000, 28, 28), (60000,))"
      ]
     },
     "metadata": {},
     "execution_count": 5
    }
   ],
   "metadata": {}
  },
  {
   "cell_type": "markdown",
   "source": [
    "## Normalizing the x_train and x_test (Input values) to a scale factor of 0-1"
   ],
   "metadata": {}
  },
  {
   "cell_type": "code",
   "execution_count": 7,
   "source": [
    "def normalize(data):\r\n",
    "    return tf.keras.utils.normalize(data, axis=1)\r\n",
    "\r\n",
    "x_train = normalize(x_train)\r\n",
    "x_test = normalize(x_test)"
   ],
   "outputs": [],
   "metadata": {}
  },
  {
   "cell_type": "code",
   "execution_count": 8,
   "source": [
    "imgSize = 28\r\n",
    "x_train = np.array(x_train).reshape(-1, imgSize, imgSize, 1)\r\n",
    "x_test = np.array(x_test).reshape(-1, imgSize, imgSize, 1)\r\n",
    "print(x_train.shape, x_test.shape)"
   ],
   "outputs": [
    {
     "output_type": "stream",
     "name": "stdout",
     "text": [
      "(60000, 28, 28, 1) (10000, 28, 28, 1)\n"
     ]
    }
   ],
   "metadata": {}
  },
  {
   "cell_type": "code",
   "execution_count": 9,
   "source": [
    "from tensorflow.keras.models import Sequential\r\n",
    "from tensorflow.keras.layers import Dense, Activation, Flatten, Conv2D, MaxPool2D"
   ],
   "outputs": [],
   "metadata": {}
  },
  {
   "cell_type": "code",
   "execution_count": 10,
   "source": [
    "model = Sequential()\r\n",
    "\r\n",
    "#### First Convolution layer 0 1 2 3 (60000, 28, 28, 1) 28-3+1 = 26x26\r\n",
    "model.add(Conv2D(64, (3,3), input_shape=x_train.shape[1:]))\r\n",
    "model.add(Activation('relu'))\r\n",
    "model.add(MaxPool2D(pool_size=(2,2)))\r\n",
    "\r\n",
    "#### Second Convolution layer 0 1 2 3 (60000, 28, 28, 1) 28-3+1 = 26x26\r\n",
    "model.add(Conv2D(64, (3,3), input_shape=x_train.shape[1:]))\r\n",
    "model.add(Activation('relu'))\r\n",
    "model.add(MaxPool2D(pool_size=(2,2)))\r\n",
    "\r\n",
    "#### Third Convolution layer 0 1 2 3 (60000, 28, 28, 1) 28-3+1 = 26x26\r\n",
    "model.add(Conv2D(64, (3,3), input_shape=x_train.shape[1:]))\r\n",
    "model.add(Activation('relu'))\r\n",
    "model.add(MaxPool2D(pool_size=(2,2)))\r\n",
    "\r\n",
    "#### Fully Connected layer 0 1 2 3 (60000, 28, 28, 1) 28-3+1 = 26x26\r\n",
    "model.add(Flatten())\r\n",
    "model.add(Dense(64))\r\n",
    "model.add(Activation('relu'))\r\n",
    "\r\n",
    "#### Last fully connected layer\r\n",
    "model.add(Dense(10))\r\n",
    "model.add(Activation('softmax'))\r\n",
    "\r\n"
   ],
   "outputs": [],
   "metadata": {}
  },
  {
   "cell_type": "code",
   "execution_count": 11,
   "source": [
    "model.summary()"
   ],
   "outputs": [
    {
     "output_type": "stream",
     "name": "stdout",
     "text": [
      "Model: \"sequential\"\n",
      "_________________________________________________________________\n",
      "Layer (type)                 Output Shape              Param #   \n",
      "=================================================================\n",
      "conv2d (Conv2D)              (None, 26, 26, 64)        640       \n",
      "_________________________________________________________________\n",
      "activation (Activation)      (None, 26, 26, 64)        0         \n",
      "_________________________________________________________________\n",
      "max_pooling2d (MaxPooling2D) (None, 13, 13, 64)        0         \n",
      "_________________________________________________________________\n",
      "conv2d_1 (Conv2D)            (None, 11, 11, 64)        36928     \n",
      "_________________________________________________________________\n",
      "activation_1 (Activation)    (None, 11, 11, 64)        0         \n",
      "_________________________________________________________________\n",
      "max_pooling2d_1 (MaxPooling2 (None, 5, 5, 64)          0         \n",
      "_________________________________________________________________\n",
      "conv2d_2 (Conv2D)            (None, 3, 3, 64)          36928     \n",
      "_________________________________________________________________\n",
      "activation_2 (Activation)    (None, 3, 3, 64)          0         \n",
      "_________________________________________________________________\n",
      "max_pooling2d_2 (MaxPooling2 (None, 1, 1, 64)          0         \n",
      "_________________________________________________________________\n",
      "flatten (Flatten)            (None, 64)                0         \n",
      "_________________________________________________________________\n",
      "dense (Dense)                (None, 64)                4160      \n",
      "_________________________________________________________________\n",
      "activation_3 (Activation)    (None, 64)                0         \n",
      "_________________________________________________________________\n",
      "dense_1 (Dense)              (None, 10)                650       \n",
      "_________________________________________________________________\n",
      "activation_4 (Activation)    (None, 10)                0         \n",
      "=================================================================\n",
      "Total params: 79,306\n",
      "Trainable params: 79,306\n",
      "Non-trainable params: 0\n",
      "_________________________________________________________________\n"
     ]
    }
   ],
   "metadata": {}
  },
  {
   "cell_type": "code",
   "execution_count": 17,
   "source": [
    "model.compile(optimizer='adam', loss='sparse_categorical_crossentropy', metrics=['accuracy'])"
   ],
   "outputs": [],
   "metadata": {}
  },
  {
   "cell_type": "code",
   "execution_count": 18,
   "source": [
    "# Training the model against x_train and y_train\r\n",
    "model.fit(x_train, y_train, epochs=5, validation_split=0.3)"
   ],
   "outputs": [
    {
     "output_type": "stream",
     "name": "stdout",
     "text": [
      "Epoch 1/5\n",
      "1313/1313 [==============================] - 40s 30ms/step - loss: 0.3126 - accuracy: 0.9024 - val_loss: 0.1179 - val_accuracy: 0.9629\n",
      "Epoch 2/5\n",
      "1313/1313 [==============================] - 40s 30ms/step - loss: 0.1042 - accuracy: 0.9688 - val_loss: 0.0967 - val_accuracy: 0.9703\n",
      "Epoch 3/5\n",
      "1313/1313 [==============================] - 40s 30ms/step - loss: 0.0726 - accuracy: 0.9775 - val_loss: 0.0823 - val_accuracy: 0.9748\n",
      "Epoch 4/5\n",
      "1313/1313 [==============================] - 41s 31ms/step - loss: 0.0571 - accuracy: 0.9825 - val_loss: 0.0718 - val_accuracy: 0.9773\n",
      "Epoch 5/5\n",
      "1313/1313 [==============================] - 40s 30ms/step - loss: 0.0457 - accuracy: 0.9858 - val_loss: 0.0762 - val_accuracy: 0.9769\n"
     ]
    },
    {
     "output_type": "execute_result",
     "data": {
      "text/plain": [
       "<keras.callbacks.History at 0x28ce7a4b6a0>"
      ]
     },
     "metadata": {},
     "execution_count": 18
    }
   ],
   "metadata": {}
  },
  {
   "cell_type": "code",
   "execution_count": 19,
   "source": [
    "model.save('handWrittenDigits.model')"
   ],
   "outputs": [
    {
     "output_type": "stream",
     "name": "stdout",
     "text": [
      "INFO:tensorflow:Assets written to: handWrittenDigits.model\\assets\n"
     ]
    }
   ],
   "metadata": {}
  },
  {
   "cell_type": "code",
   "execution_count": 20,
   "source": [
    "# model.save('handWrittenDigits.model')\r\n",
    "# model = tf.keras.models.load_model('handWrittenDigits.model')\r\n",
    "loss, accuracy = model.evaluate(x_test, y_test)"
   ],
   "outputs": [
    {
     "output_type": "stream",
     "name": "stdout",
     "text": [
      "313/313 [==============================] - 2s 7ms/step - loss: 0.0707 - accuracy: 0.9783\n"
     ]
    }
   ],
   "metadata": {}
  },
  {
   "cell_type": "code",
   "execution_count": 21,
   "source": [
    "print(loss, accuracy)"
   ],
   "outputs": [
    {
     "output_type": "stream",
     "name": "stdout",
     "text": [
      "0.07074078917503357 0.9782999753952026\n"
     ]
    }
   ],
   "metadata": {}
  },
  {
   "cell_type": "code",
   "execution_count": 23,
   "source": [
    "predictions = model.predict([x_test])"
   ],
   "outputs": [],
   "metadata": {}
  },
  {
   "cell_type": "code",
   "execution_count": 24,
   "source": [
    "import os\r\n",
    "imgNo = 0\r\n",
    "# print(os.listdir(f'./images'))\r\n",
    "while os.path.isfile(f\"./images/{imgNo}.png\"):\r\n",
    "    # try:\r\n",
    "    img = cv.imread(f\"./images/{imgNo}.png\")[:,:,0]\r\n",
    "    # gray = cv.cvtColor(img, cv.COLOR_BGR2GRAY)\r\n",
    "    img = cv.resize(img, (imgSize, imgSize), interpolation=cv.INTER_AREA)\r\n",
    "    imgN = tf.keras.utils.normalize(img, axis=1)\r\n",
    "    imgR = np.array(imgN).reshape(-1, imgSize, imgSize, 1)\r\n",
    "    prediction = model.predict(imgR)\r\n",
    "    print('\\n\\n\\n', f': Prediction : {np.argmax(prediction)} :'.center(100, '-'), '\\n')\r\n",
    "    plt.imshow(img, cmap=plt.cm.binary)\r\n",
    "    plt.show()\r\n",
    "    imgNo += 1\r\n",
    "    # except Exception: print('Error!')\r\n",
    "print('done')"
   ],
   "outputs": [
    {
     "output_type": "stream",
     "name": "stdout",
     "text": [
      "\n",
      "\n",
      "\n",
      " -----------------------------------------: Prediction : 0 :----------------------------------------- \n",
      "\n"
     ]
    },
    {
     "output_type": "display_data",
     "data": {
      "image/png": "[encoded data removed]",
      "text/plain": [
       "<Figure size 432x288 with 1 Axes>"
      ]
     },
     "metadata": {
      "needs_background": "light"
     }
    },
    {
     "output_type": "stream",
     "name": "stdout",
     "text": [
      "\n",
      "\n",
      "\n",
      " -----------------------------------------: Prediction : 1 :----------------------------------------- \n",
      "\n"
     ]
    },
    {
     "output_type": "display_data",
     "data": {
      "image/png": "[encoded data removed]",
      "text/plain": [
       "<Figure size 432x288 with 1 Axes>"
      ]
     },
     "metadata": {
      "needs_background": "light"
     }
    },
    {
     "output_type": "stream",
     "name": "stdout",
     "text": [
      "\n",
      "\n",
      "\n",
      " -----------------------------------------: Prediction : 2 :----------------------------------------- \n",
      "\n"
     ]
    },
    {
     "output_type": "display_data",
     "data": {
      "image/png": "[encoded data removed]",
      "text/plain": [
       "<Figure size 432x288 with 1 Axes>"
      ]
     },
     "metadata": {
      "needs_background": "light"
     }
    },
    {
     "output_type": "stream",
     "name": "stdout",
     "text": [
      "\n",
      "\n",
      "\n",
      " -----------------------------------------: Prediction : 3 :----------------------------------------- \n",
      "\n"
     ]
    },
    {
     "output_type": "display_data",
     "data": {
      "image/png": "[encoded data removed]",
      "text/plain": [
       "<Figure size 432x288 with 1 Axes>"
      ]
     },
     "metadata": {
      "needs_background": "light"
     }
    },
    {
     "output_type": "stream",
     "name": "stdout",
     "text": [
      "\n",
      "\n",
      "\n",
      " -----------------------------------------: Prediction : 4 :----------------------------------------- \n",
      "\n"
     ]
    },
    {
     "output_type": "display_data",
     "data": {
      "image/png": "[encoded data removed]",
      "text/plain": [
       "<Figure size 432x288 with 1 Axes>"
      ]
     },
     "metadata": {
      "needs_background": "light"
     }
    },
    {
     "output_type": "stream",
     "name": "stdout",
     "text": [
      "\n",
      "\n",
      "\n",
      " -----------------------------------------: Prediction : 6 :----------------------------------------- \n",
      "\n"
     ]
    },
    {
     "output_type": "display_data",
     "data": {
      "image/png": "[encoded data removed]",
      "text/plain": [
       "<Figure size 432x288 with 1 Axes>"
      ]
     },
     "metadata": {
      "needs_background": "light"
     }
    },
    {
     "output_type": "stream",
     "name": "stdout",
     "text": [
      "\n",
      "\n",
      "\n",
      " -----------------------------------------: Prediction : 6 :----------------------------------------- \n",
      "\n"
     ]
    },
    {
     "output_type": "display_data",
     "data": {
      "image/png": "[encoded data removed]",
      "text/plain": [
       "<Figure size 432x288 with 1 Axes>"
      ]
     },
     "metadata": {
      "needs_background": "light"
     }
    },
    {
     "output_type": "stream",
     "name": "stdout",
     "text": [
      "\n",
      "\n",
      "\n",
      " -----------------------------------------: Prediction : 1 :----------------------------------------- \n",
      "\n"
     ]
    },
    {
     "output_type": "display_data",
     "data": {
      "image/png": "[encoded data removed]",
      "text/plain": [
       "<Figure size 432x288 with 1 Axes>"
      ]
     },
     "metadata": {
      "needs_background": "light"
     }
    },
    {
     "output_type": "stream",
     "name": "stdout",
     "text": [
      "\n",
      "\n",
      "\n",
      " -----------------------------------------: Prediction : 8 :----------------------------------------- \n",
      "\n"
     ]
    },
    {
     "output_type": "display_data",
     "data": {
      "image/png": "[encoded data removed]",
      "text/plain": [
       "<Figure size 432x288 with 1 Axes>"
      ]
     },
     "metadata": {
      "needs_background": "light"
     }
    },
    {
     "output_type": "stream",
     "name": "stdout",
     "text": [
      "\n",
      "\n",
      "\n",
      " -----------------------------------------: Prediction : 4 :----------------------------------------- \n",
      "\n"
     ]
    },
    {
     "output_type": "display_data",
     "data": {
      "image/png": "[encoded data removed]",
      "text/plain": [
       "<Figure size 432x288 with 1 Axes>"
      ]
     },
     "metadata": {
      "needs_background": "light"
     }
    },
    {
     "output_type": "stream",
     "name": "stdout",
     "text": [
      "done\n"
     ]
    }
   ],
   "metadata": {}
  },
  {
   "cell_type": "code",
   "execution_count": null,
   "source": [],
   "outputs": [],
   "metadata": {}
  },
  {
   "cell_type": "code",
   "execution_count": null,
   "source": [],
   "outputs": [],
   "metadata": {}
  }
 ],
 "metadata": {
  "orig_nbformat": 4,
  "language_info": {
   "name": "python",
   "version": "3.9.7",
   "mimetype": "text/x-python",
   "codemirror_mode": {
    "name": "ipython",
    "version": 3
   },
   "pygments_lexer": "ipython3",
   "nbconvert_exporter": "python",
   "file_extension": ".py"
  },
  "kernelspec": {
   "name": "python3",
   "display_name": "Python 3.9.7 64-bit"
  },
  "interpreter": {
   "hash": "a12d694c3ccac42055183a0ad11e659c6a2db5c6555ad2c8919d5814fd4e404f"
  }
 },
 "nbformat": 4,
 "nbformat_minor": 2
}